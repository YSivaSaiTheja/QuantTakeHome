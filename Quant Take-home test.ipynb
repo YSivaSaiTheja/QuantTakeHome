{
 "cells": [
  {
   "cell_type": "markdown",
   "metadata": {},
   "source": [
    "## Give the name of employees, whose salaries are greater than their immediate manager's?"
   ]
  },
  {
   "cell_type": "markdown",
   "metadata": {},
   "source": [
    "### a. Joe, Sally and Dan"
   ]
  },
  {
   "cell_type": "markdown",
   "metadata": {},
   "source": [
    "### b. 425 dollars"
   ]
  },
  {
   "cell_type": "markdown",
   "metadata": {},
   "source": [
    "## 2) Write a function exists, that takes in a variable v, and return if v is defined"
   ]
  },
  {
   "cell_type": "code",
   "execution_count": 72,
   "metadata": {},
   "outputs": [],
   "source": [
    "a = 30\n",
    "b = 40\n",
    "c = 50"
   ]
  },
  {
   "cell_type": "code",
   "execution_count": 73,
   "metadata": {},
   "outputs": [],
   "source": [
    "def exists(v): \n",
    "    try: \n",
    "        return v\n",
    "    except NameError:\n",
    "        return \"Variable v is not defined\"\n",
    "    finally:\n",
    "        print(\"End of function\")"
   ]
  },
  {
   "cell_type": "code",
   "execution_count": 80,
   "metadata": {},
   "outputs": [
    {
     "name": "stdout",
     "output_type": "stream",
     "text": [
      "End of function\n"
     ]
    },
    {
     "data": {
      "text/plain": [
       "40"
      ]
     },
     "execution_count": 80,
     "metadata": {},
     "output_type": "execute_result"
    }
   ],
   "source": [
    "exists(b)"
   ]
  },
  {
   "cell_type": "markdown",
   "metadata": {},
   "source": [
    "## 3) Create a function to compute N layer of a Pascal triangle"
   ]
  },
  {
   "cell_type": "code",
   "execution_count": 115,
   "metadata": {},
   "outputs": [
    {
     "name": "stdout",
     "output_type": "stream",
     "text": [
      "Package imported\n"
     ]
    }
   ],
   "source": [
    "# Import numpy library to use matrix functionality \n",
    "import numpy as np\n",
    "print('Package imported')"
   ]
  },
  {
   "cell_type": "code",
   "execution_count": 128,
   "metadata": {},
   "outputs": [],
   "source": [
    "def compute_n_pascal(n):\n",
    "    # Initialize a matrix to store all the values in the triangle    \n",
    "    # Populate this matrix with n empty lists for storage\n",
    "    matrix = np.zeros((n, n))\n",
    "    \n",
    "    for i in range(n):\n",
    "        \n",
    "        # Layer index is the number of numbers in that layer\n",
    "        for j in range(i+1):\n",
    "            \n",
    "            # Each layer starts and ends with 1 (i == j), first number in each layer is 1 (j == 0)\n",
    "            if (i == j) or (j == 0):\n",
    "                matrix[i][j] = 1\n",
    "            else:\n",
    "                # Number at i, j is number above and number just left of above\n",
    "                matrix[i][j] = matrix[i-1][j-1] + matrix[i-1][j]\n",
    "            \n",
    "            print(matrix[i][j], end = \" \")\n",
    "        print(\"\\n\", \" \")"
   ]
  },
  {
   "cell_type": "code",
   "execution_count": 129,
   "metadata": {},
   "outputs": [
    {
     "name": "stdout",
     "output_type": "stream",
     "text": [
      "1.0 \n",
      "  \n",
      "1.0 1.0 \n",
      "  \n",
      "1.0 2.0 1.0 \n",
      "  \n"
     ]
    }
   ],
   "source": [
    "compute_n_pascal(3)"
   ]
  },
  {
   "cell_type": "markdown",
   "metadata": {},
   "source": [
    "## Github commands"
   ]
  },
  {
   "cell_type": "code",
   "execution_count": null,
   "metadata": {},
   "outputs": [],
   "source": [
    "'''\n",
    "a. To find number of files in a github folder: \n",
    "    git ls-files | wc -1 \n",
    "    \n",
    "b. To find the number of lines of code in total: \n",
    "    git ls-files | xargs wc -1\n",
    "    \n",
    "c. To find number of functions defined in total: \n",
    "\n",
    "d. To find number of lines of changes from current version to HEAD~3:\n",
    "    git diff --stat HEAD~3 HEAD\n",
    "    \n",
    "e. To find total folder size per each subfolder (2 level depth): \n",
    "    du -h --max-depth=2\n",
    "'''"
   ]
  },
  {
   "cell_type": "markdown",
   "metadata": {},
   "source": [
    "## 6) Regex"
   ]
  },
  {
   "cell_type": "code",
   "execution_count": 133,
   "metadata": {},
   "outputs": [],
   "source": [
    "# Importing the python regex engine\n",
    "import re"
   ]
  },
  {
   "cell_type": "markdown",
   "metadata": {},
   "source": [
    "### a. Finding number of dates in the format YYYY/MM/DD"
   ]
  },
  {
   "cell_type": "code",
   "execution_count": 134,
   "metadata": {},
   "outputs": [],
   "source": [
    "def find_date_format1(txt_file):\n",
    "    contents = None\n",
    "    with open(txt_file) as f:\n",
    "        contents = f.read()\n",
    "    match_list = contents.findall(r\"[\\d]{4}/[\\d]{2}/[\\d]{2}\", contents)\n",
    "    return len(match_list)"
   ]
  },
  {
   "cell_type": "markdown",
   "metadata": {},
   "source": [
    "### b. Finding number of dates in the format MM/DD/YYYY"
   ]
  },
  {
   "cell_type": "code",
   "execution_count": 137,
   "metadata": {},
   "outputs": [],
   "source": [
    "def find_date_format2(txt_file):\n",
    "    contents = None\n",
    "    with open(txt_file) as f:\n",
    "        contents = f.read()\n",
    "    match_list = re.findall(r\"^([0]?[1-9]|[1][0-2])/([0]?[1-9]|[1|2][0-9]|[3][0|1])/([0-9]{4}|[0-9]{2})\", contents)\n",
    "    return len(match_list)"
   ]
  },
  {
   "cell_type": "markdown",
   "metadata": {},
   "source": [
    "### c. Finding number of dates in the format DD/MM/YYYY"
   ]
  },
  {
   "cell_type": "code",
   "execution_count": null,
   "metadata": {},
   "outputs": [],
   "source": [
    "def find_date_format3(txt_file):\n",
    "    contents = None\n",
    "    with open(txt_file) as f:\n",
    "        contents = f.read()\n",
    "    match_list = re.findall(r\"^([0]?[1-9]|[1|2][0-9]|[3][0|1])/([0]?[1-9]|[1][0-2])/([0-9]{4}|[0-9]{2})\", contents)\n",
    "    return len(match_list)"
   ]
  },
  {
   "cell_type": "markdown",
   "metadata": {},
   "source": [
    "### d. Finding number of dates in the format DD (Jan/Feb/Mar/Apr/May/Jun/Jul/Aug/Sept/Oct/Nov/Dec) YYYY"
   ]
  },
  {
   "cell_type": "code",
   "execution_count": 136,
   "metadata": {},
   "outputs": [],
   "source": [
    "def find_date_format4(txt_file):\n",
    "    contents = None\n",
    "    with open(txt_file) as f:\n",
    "        contents = f.read()\n",
    "    match_list = contents.findall(r\"[\\d]{2}\\s[A-Z]{1}[a-z]{2,3}\\s[\\d]{4}\", contents)\n",
    "    return len(match_list)"
   ]
  },
  {
   "cell_type": "code",
   "execution_count": null,
   "metadata": {},
   "outputs": [],
   "source": []
  }
 ],
 "metadata": {
  "kernelspec": {
   "display_name": "Python 3",
   "language": "python",
   "name": "python3"
  },
  "language_info": {
   "codemirror_mode": {
    "name": "ipython",
    "version": 3
   },
   "file_extension": ".py",
   "mimetype": "text/x-python",
   "name": "python",
   "nbconvert_exporter": "python",
   "pygments_lexer": "ipython3",
   "version": "3.8.5"
  }
 },
 "nbformat": 4,
 "nbformat_minor": 4
}
